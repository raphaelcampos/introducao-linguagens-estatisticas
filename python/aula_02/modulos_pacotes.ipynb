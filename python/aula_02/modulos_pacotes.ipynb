{
 "cells": [
  {
   "cell_type": "markdown",
   "metadata": {},
   "source": [
    "# Módulos\n",
    "\n",
    "Um módulo refere-se a um arquivo contendo definições de funções e intruções Python.\n",
    "\n",
    "Um arquivo contendo um código Python, por exemplo: exemplo.py, é chamado de modulo e seu nome seria exemplo.\n",
    "\n",
    "Módulos ajudando a tornar o código, a medida que vai crescendo, mais organizado e manutenível. Alémdisso, modulos promovem a reusabilidade do código.\n",
    "\n",
    "Python possui vários modulos embutidos na linguagem. Um deles é ```math```. Vamos ver como utilizar as funçòes e definições de modulo.\n",
    "\n",
    "Primeiro, nós temos de importar o modulo. Para isso, é utilizado o comando ```import```. "
   ]
  },
  {
   "cell_type": "code",
   "execution_count": 4,
   "metadata": {},
   "outputs": [
    {
     "name": "stdout",
     "output_type": "stream",
     "text": [
      "2.0\n",
      "2.30258509299\n"
     ]
    }
   ],
   "source": [
    "# importamos o modulo\n",
    "import math\n",
    "\n",
    "# vamos utilzar a função sqrt e log\n",
    "print(math.sqrt(4))\n",
    "print(math.log(10))"
   ]
  },
  {
   "cell_type": "markdown",
   "metadata": {},
   "source": [
    "Nos podemos importar a propria função a partir de um modulo, sem a necessidade de escrever toda vez o nome do mesmo."
   ]
  },
  {
   "cell_type": "code",
   "execution_count": 6,
   "metadata": {},
   "outputs": [
    {
     "name": "stdout",
     "output_type": "stream",
     "text": [
      "2.0\n",
      "2.30258509299\n"
     ]
    }
   ],
   "source": [
    "# importamos o modulo\n",
    "from math import sqrt, log\n",
    "\n",
    "# vamos utilzar a função sqrt e log\n",
    "print(sqrt(4))\n",
    "print(log(10))"
   ]
  },
  {
   "cell_type": "markdown",
   "metadata": {},
   "source": [
    "## Renomear importação\n",
    "\n",
    "Podemos renomear as funções e modolos que importamos, utilizando a claúsula ```as```."
   ]
  },
  {
   "cell_type": "code",
   "execution_count": 9,
   "metadata": {},
   "outputs": [
    {
     "name": "stdout",
     "output_type": "stream",
     "text": [
      "2.0\n",
      "2.30258509299\n"
     ]
    }
   ],
   "source": [
    "import math as m\n",
    "# log em python é logaritmo natural e nao na base 10\n",
    "from math import log as ln\n",
    "\n",
    "# vamos utilzar a função sqrt e log\n",
    "print(m.sqrt(4))\n",
    "print(ln(10))"
   ]
  },
  {
   "cell_type": "markdown",
   "metadata": {},
   "source": [
    "### Importando tudo em um modulo"
   ]
  },
  {
   "cell_type": "code",
   "execution_count": 11,
   "metadata": {},
   "outputs": [
    {
     "name": "stdout",
     "output_type": "stream",
     "text": [
      "2.0\n",
      "2.30258509299\n"
     ]
    }
   ],
   "source": [
    "from math import *\n",
    "\n",
    "print(sqrt(4))\n",
    "print(log(10))"
   ]
  },
  {
   "cell_type": "markdown",
   "metadata": {},
   "source": [
    "## Exercício\n",
    "\n",
    "Muitas vezes quando estamos criando nossos modelos é preciso definir uma métrica para nós os avaliarmos e escolher o melhor dentre eles. Algumas vezes, nós mesmo temos de implementá-las, portanto, nesse exercício voc6e vai ter de implementar uma extensão da métrica Erro Quadrático Médio, em inglês *Mean Squared Error (MSE)*, chamada *Root Mean Squared Logarithmic Error (RMSLE)*. \n",
    "\n",
    "A RMSLE é deifnida como:\n",
    "\n",
    "$\\epsilon = \\sqrt{\\frac{1}{n}\\sum_{i=1}^{n}(\\log(\\hat{y}_i) - \\log(y_i))^2}$\n",
    "\n",
    "onde:\n",
    "\n",
    "- $\\epsilon$ é o valor do erro (score)\n",
    "- $n$ é o total de exemplos no conjunto de dados testado\n",
    "- $\\hat{y}_i$ é a predição do modelo\n",
    "- $y_i$ é o valor do real do imóvel (rótulo)\n",
    "- $\\log(x)$ é a função logarítmica de $x$\n",
    "\n",
    "A RMSLE penaliza mais estimativas erradas para menos do que para mais."
   ]
  },
  {
   "cell_type": "code",
   "execution_count": 17,
   "metadata": {},
   "outputs": [
    {
     "name": "stdout",
     "output_type": "stream",
     "text": [
      "0.144709974925\n"
     ]
    }
   ],
   "source": [
    "def RMSLE(y_true, y_pred):\n",
    "    \"\"\" Root Mean Squared Logarithmic Error \n",
    "    Parâmetros\n",
    "    ----------\n",
    "    y_true : 1d array\n",
    "        Rótulos.\n",
    "    y_pred : 1d array\n",
    "        Predições, retornadas pelo modelo.\n",
    "    \"\"\"\n",
    "    # TODO: seu código\n",
    "    import math as m\n",
    "    soma=0\n",
    "    for idx, item in enumerate(y_pred):\n",
    "        n1 = m.log(item)\n",
    "        n2 = m.log(y_true[idx])\n",
    "        soma = soma + (n1 - n2)**2\n",
    "    return m.sqrt((soma/len(y_pred)))\n",
    "    \n",
    "# criando uma entrada exemplo\n",
    "y_true =  [1, 2, 3, 4, 5, 6, 7, 8, 9]\n",
    "y_pred = map(lambda y: 0.9 * y if y % 2 else 1.2 * y, y_true)\n",
    "\n",
    "# saida esperada : 0.14470997492513551\n",
    "print(RMSLE(y_true, y_pred))\n",
    "\n"
   ]
  },
  {
   "cell_type": "markdown",
   "metadata": {},
   "source": [
    "# Pacotes\n",
    "\n",
    "Em nosso computador, nós não armazenamos todos nossos arquivos em um único lugar. Nós os organizamos hierarquicamente em diretórios para que possamos acessá-los rapidamente.\n",
    "\n",
    "Analogamente a isso, Python em python nós organizamos nossos modulos em pacotes.\n",
    "\n",
    "A medida que nossa aplicação cresce com um monte de módulos, nós agrupamos modulos similares em um pacote e módulos distintos em pacotes diferentes.\n",
    "\n",
    "Abaixo uma pequena amostra da organização do pacote numpy que iremos utilizar bastantes nesse curso.\n",
    "\n",
    "![pacote](package-example.png)\n",
    "\n",
    "## Importando de pacotes"
   ]
  },
  {
   "cell_type": "code",
   "execution_count": 38,
   "metadata": {},
   "outputs": [
    {
     "data": {
      "text/plain": [
       "array([ 0.48724739,  0.43546647,  0.71773515])"
      ]
     },
     "execution_count": 38,
     "metadata": {},
     "output_type": "execute_result"
    }
   ],
   "source": [
    "import numpy.random as random\n",
    "\n",
    "random.uniform(0, 1, 3)"
   ]
  },
  {
   "cell_type": "code",
   "execution_count": 39,
   "metadata": {},
   "outputs": [
    {
     "data": {
      "text/plain": [
       "array([ 0.76758684,  0.6138424 ,  0.6295583 ])"
      ]
     },
     "execution_count": 39,
     "metadata": {},
     "output_type": "execute_result"
    }
   ],
   "source": [
    "from numpy.random import uniform\n",
    "\n",
    "uniform(0, 1, 3)"
   ]
  },
  {
   "cell_type": "code",
   "execution_count": 40,
   "metadata": {},
   "outputs": [
    {
     "data": {
      "text/plain": [
       "array([ 0.94946036,  0.8892111 ,  0.87754829])"
      ]
     },
     "execution_count": 40,
     "metadata": {},
     "output_type": "execute_result"
    }
   ],
   "source": [
    "import numpy as np\n",
    "\n",
    "np.random.uniform(0, 1, 3)"
   ]
  }
 ],
 "metadata": {
  "kernelspec": {
   "display_name": "Python 2",
   "language": "python",
   "name": "python2"
  },
  "language_info": {
   "codemirror_mode": {
    "name": "ipython",
    "version": 2
   },
   "file_extension": ".py",
   "mimetype": "text/x-python",
   "name": "python",
   "nbconvert_exporter": "python",
   "pygments_lexer": "ipython2",
   "version": "2.7.13"
  }
 },
 "nbformat": 4,
 "nbformat_minor": 2
}
