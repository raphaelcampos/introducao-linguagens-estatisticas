{
 "cells": [
  {
   "cell_type": "markdown",
   "metadata": {},
   "source": [
    "# Funções\n",
    "\n",
    "Em python, uma função é um conjuntos de instruções relacionadas para executar uma tarefa específica.\n",
    "\n",
    "Funções nos ajudam a quebrar nossos programas em conjuntos menores de código e módulos. Funções ajudam a organizar o código, tornando-o mais legível e manutenível.\n",
    "\n",
    "Além disso, torna o código reutilizável.\n",
    "\n",
    "```python\n",
    "def nome_funcao(parametros):\n",
    "    \"\"\"documentacao\"\"\"\n",
    "    instrucoes\n",
    "```\n",
    "\n",
    "1. A palavra-chave **def** marque o início do cabeçalho da função\n",
    "2. Nome da função deve ser único e seguir as mesmas regras de criação dos identificadores.\n",
    "3. Parâmetros (ou argumentos) atraves dos quais passamos valores a função (são opicionais).\n",
    "4. Dois pontos (:) marca o fim do cabeçalho.\n",
    "5. String com a documentação (opcional).\n",
    "6. instrições válidas e corretamente indentadas\n",
    "7. Um instrução ```return```\n",
    "\n",
    "Um exemplo de função que calcula a soma de dois números:"
   ]
  },
  {
   "cell_type": "code",
   "execution_count": 1,
   "metadata": {
    "collapsed": true
   },
   "outputs": [],
   "source": [
    "def add(a, b):\n",
    "    return a + b"
   ]
  },
  {
   "cell_type": "markdown",
   "metadata": {},
   "source": [
    "## Chamada de Função\n",
    "\n",
    "Um vez declarada, nós podemos chamar a funçao de uma outra função, de um programa. Para isso é preciso apenas digitar o nome da cunção com seus parâmetros."
   ]
  },
  {
   "cell_type": "code",
   "execution_count": 2,
   "metadata": {},
   "outputs": [
    {
     "data": {
      "text/plain": [
       "6"
      ]
     },
     "execution_count": 2,
     "metadata": {},
     "output_type": "execute_result"
    }
   ],
   "source": [
    "add(2, 4)"
   ]
  },
  {
   "cell_type": "markdown",
   "metadata": {},
   "source": [
    "## Intrução de Retorno\n",
    "\n",
    "A instrução ```return``` é usada para sair da função e ovltar para ponto do código onde ele foi chamada.\n",
    "Quando não declaramos o ```return```, o python retorna o objeto ```None``` por padrão."
   ]
  },
  {
   "cell_type": "code",
   "execution_count": 3,
   "metadata": {},
   "outputs": [
    {
     "name": "stdout",
     "output_type": "stream",
     "text": [
      "essa função retorna None\n",
      "None\n"
     ]
    }
   ],
   "source": [
    "def retornando_none():\n",
    "    print(\"essa função retorna None\")\n",
    "    \n",
    "print(retornando_none())"
   ]
  },
  {
   "cell_type": "markdown",
   "metadata": {},
   "source": [
    "### Mais exemplos de return"
   ]
  },
  {
   "cell_type": "code",
   "execution_count": 5,
   "metadata": {},
   "outputs": [
    {
     "name": "stdout",
     "output_type": "stream",
     "text": [
      "9\n",
      "4\n"
     ]
    }
   ],
   "source": [
    "def valor_absoluto(num):\n",
    "    if num >= 0:\n",
    "        return num\n",
    "    else:\n",
    "        return -num\n",
    "\n",
    "print(valor_absoluto(-9))\n",
    "print(valor_absoluto(4))"
   ]
  },
  {
   "cell_type": "markdown",
   "metadata": {},
   "source": [
    "## Argumentos"
   ]
  },
  {
   "cell_type": "code",
   "execution_count": 12,
   "metadata": {},
   "outputs": [
    {
     "data": {
      "text/plain": [
       "20"
      ]
     },
     "execution_count": 12,
     "metadata": {},
     "output_type": "execute_result"
    }
   ],
   "source": [
    "def incrementa(a, b):\n",
    "    return a + b \n",
    "\n",
    "incrementa(10, 10)"
   ]
  },
  {
   "cell_type": "markdown",
   "metadata": {},
   "source": [
    "Nós vimos que ao chamarmos uma função devemos respeitar seus parâmetros. Ja'que chamamos a função com seus dois argumentos, ela rodou sem nenhum problema.\n",
    "\n",
    "Porém se nós a chamarmos com um número de argumentos distintos o interpretador vai achar ruim. "
   ]
  },
  {
   "cell_type": "code",
   "execution_count": 13,
   "metadata": {},
   "outputs": [
    {
     "ename": "TypeError",
     "evalue": "incrementa() takes exactly 2 arguments (1 given)",
     "output_type": "error",
     "traceback": [
      "\u001b[0;31m---------------------------------------------------------------------------\u001b[0m",
      "\u001b[0;31mTypeError\u001b[0m                                 Traceback (most recent call last)",
      "\u001b[0;32m<ipython-input-13-63bb31a7bdd7>\u001b[0m in \u001b[0;36m<module>\u001b[0;34m()\u001b[0m\n\u001b[0;32m----> 1\u001b[0;31m \u001b[0mincrementa\u001b[0m\u001b[0;34m(\u001b[0m\u001b[0;36m10\u001b[0m\u001b[0;34m)\u001b[0m \u001b[0;31m# apenas um argumento\u001b[0m\u001b[0;34m\u001b[0m\u001b[0m\n\u001b[0m",
      "\u001b[0;31mTypeError\u001b[0m: incrementa() takes exactly 2 arguments (1 given)"
     ]
    }
   ],
   "source": [
    "incrementa(10) # apenas um argumento"
   ]
  },
  {
   "cell_type": "code",
   "execution_count": 15,
   "metadata": {},
   "outputs": [
    {
     "ename": "TypeError",
     "evalue": "incrementa() takes exactly 2 arguments (0 given)",
     "output_type": "error",
     "traceback": [
      "\u001b[0;31m---------------------------------------------------------------------------\u001b[0m",
      "\u001b[0;31mTypeError\u001b[0m                                 Traceback (most recent call last)",
      "\u001b[0;32m<ipython-input-15-a96cb082e497>\u001b[0m in \u001b[0;36m<module>\u001b[0;34m()\u001b[0m\n\u001b[0;32m----> 1\u001b[0;31m \u001b[0mincrementa\u001b[0m\u001b[0;34m(\u001b[0m\u001b[0;34m)\u001b[0m \u001b[0;31m# nenhum argumento\u001b[0m\u001b[0;34m\u001b[0m\u001b[0m\n\u001b[0m",
      "\u001b[0;31mTypeError\u001b[0m: incrementa() takes exactly 2 arguments (0 given)"
     ]
    }
   ],
   "source": [
    "incrementa() # nenhum argumento"
   ]
  },
  {
   "cell_type": "markdown",
   "metadata": {},
   "source": [
    "### Número variável de argumentos\n",
    "\n",
    "Até então, nós vimos funções com número fixo de argumentos. Em python, há outros modos de declarar funções com as quais podemos ter número variáveis de argumentos.\n",
    "\n",
    "#### Valores Padrões\n",
    "\n",
    "Nós podemos atributir um valor padrão aos argumentos das classes. Desse modo, no momento da chamada, podemos escolher não passar o valor desse parametros em questão."
   ]
  },
  {
   "cell_type": "code",
   "execution_count": 17,
   "metadata": {},
   "outputs": [
    {
     "name": "stdout",
     "output_type": "stream",
     "text": [
      "11\n",
      "12\n"
     ]
    }
   ],
   "source": [
    "def incrementa(a, b = 1):\n",
    "    return a + b \n",
    "\n",
    "print(incrementa(10))\n",
    "print(incrementa(10, 2))"
   ]
  },
  {
   "cell_type": "markdown",
   "metadata": {},
   "source": [
    "O parâmetro **a** é obrigatório, todavia, o **b** é opcional. Qualquer quantidade de argumentos podem ser padrão, portanto, opcionais.\n",
    "\n",
    "É importante declarar os argumentos obrigatórios (a.k.a., posicionais) sempre primeiro. Os opcionais devem ser sempre os últimos."
   ]
  },
  {
   "cell_type": "code",
   "execution_count": 19,
   "metadata": {},
   "outputs": [
    {
     "ename": "SyntaxError",
     "evalue": "non-default argument follows default argument (<ipython-input-19-d7e4191ff31a>, line 1)",
     "output_type": "error",
     "traceback": [
      "\u001b[0;36m  File \u001b[0;32m\"<ipython-input-19-d7e4191ff31a>\"\u001b[0;36m, line \u001b[0;32m1\u001b[0m\n\u001b[0;31m    def incrementa(b = 1, a):\u001b[0m\n\u001b[0;31mSyntaxError\u001b[0m\u001b[0;31m:\u001b[0m non-default argument follows default argument\n"
     ]
    }
   ],
   "source": [
    "def incrementa(b = 1, a):\n",
    "    return a + b "
   ]
  },
  {
   "cell_type": "markdown",
   "metadata": {},
   "source": [
    "Quando se há mais de um argumento palavra-chave (com valor padrão), não é preciso manter ordem deles na chamada. Por exemplo:"
   ]
  },
  {
   "cell_type": "code",
   "execution_count": 1,
   "metadata": {},
   "outputs": [
    {
     "data": {
      "text/plain": [
       "3"
      ]
     },
     "execution_count": 1,
     "metadata": {},
     "output_type": "execute_result"
    }
   ],
   "source": [
    "def incrementa(a, b = 1, c = 2):\n",
    "    return a + b \n",
    "incrementa(1, c = 1, b = 2) "
   ]
  },
  {
   "cell_type": "markdown",
   "metadata": {},
   "source": [
    "### Argumentos arbitrários\n",
    "\n",
    "Algumas vezes não sabemos de antemão quandos argumentos iremos passar para uma função. Python nos permite lidar com esse tipo de situação através com número arbitrário de argumentos.\n",
    "\n",
    "Para isso é utilizado o asterísco (\\*) antes do nome do parâmetro que denota o tipo de argumento. Segue o exemplo:"
   ]
  },
  {
   "cell_type": "code",
   "execution_count": 2,
   "metadata": {},
   "outputs": [
    {
     "name": "stdout",
     "output_type": "stream",
     "text": [
      "Oi raphael\n",
      "Oi julia\n",
      "Oi carlos\n"
     ]
    }
   ],
   "source": [
    "def ola(*nomes):\n",
    "    \n",
    "    for nome in nomes:\n",
    "        print(\"Oi\"),(nome)\n",
    "ola(\"raphael\", \"julia\", \"carlos\")"
   ]
  },
  {
   "cell_type": "markdown",
   "metadata": {},
   "source": [
    "### Exercício\n",
    "\n",
    "Faça uma função que redece um número arbitrário de argumentos e que retorna o maior dentre eles."
   ]
  },
  {
   "cell_type": "code",
   "execution_count": 11,
   "metadata": {},
   "outputs": [
    {
     "data": {
      "text/plain": [
       "39489348"
      ]
     },
     "execution_count": 11,
     "metadata": {},
     "output_type": "execute_result"
    }
   ],
   "source": [
    "def  checkGreaterParam(*items):\n",
    "    if len(items) > 0:\n",
    "        num = 0\n",
    "        for item in items:\n",
    "            if isinstance(item, int) and item > num:\n",
    "                num = item\n",
    "        return num\n",
    "    else:\n",
    "        print(\"Nenhum parametro foi passado!\")\n",
    "        \n",
    "checkGreaterParam(1,1,2,3,5,8,13,21,43,545,99,908,11,34,466,1111,\"teste\",39489348,323)"
   ]
  },
  {
   "cell_type": "markdown",
   "metadata": {},
   "source": [
    "## Recursão\n",
    "\n",
    "Recursão é o processo de definir algo em termos de si mesmo. \n",
    "\n",
    "Já mencionamos que em python é possível uma função chamar outra função. É também possível ela chamar ela mesma, uma função com tal caracteristica é chamada de função recursiva.\n",
    "\n",
    "Lemabra-se da sequência fibonacci? ela é uma função recursiva. $F_n = F_{n-1} - F_{n-2}, reescrevendo isso em python temos:"
   ]
  },
  {
   "cell_type": "code",
   "execution_count": 11,
   "metadata": {},
   "outputs": [
    {
     "data": {
      "text/plain": [
       "34"
      ]
     },
     "execution_count": 11,
     "metadata": {},
     "output_type": "execute_result"
    }
   ],
   "source": [
    "def fibonacci_recursiva(n):\n",
    "    if n <= 0:\n",
    "        return 0\n",
    "    elif n <= 2:\n",
    "        return 1\n",
    "    \n",
    "    return fibonacci_recursiva(n - 1) + fibonacci_recursiva(n - 2) \n",
    "\n",
    "fibonacci_recursiva(9)"
   ]
  },
  {
   "cell_type": "markdown",
   "metadata": {},
   "source": [
    "Em constrate a:"
   ]
  },
  {
   "cell_type": "code",
   "execution_count": 14,
   "metadata": {},
   "outputs": [
    {
     "data": {
      "text/plain": [
       "34"
      ]
     },
     "execution_count": 14,
     "metadata": {},
     "output_type": "execute_result"
    }
   ],
   "source": [
    "def fibonnaci_iterativa(n):\n",
    "    if n <= 0:\n",
    "        return 0\n",
    "    elif n == 1:\n",
    "        print(1)\n",
    "    \n",
    "    F1 = 0\n",
    "    F2 = 1\n",
    "    for i in range(2, n):\n",
    "        temp = F1 + F2\n",
    "        F1 = F2\n",
    "        F2 = temp\n",
    "\n",
    "    return F1 + F2\n",
    "\n",
    "fibonnaci_iterativa(9)"
   ]
  },
  {
   "cell_type": "markdown",
   "metadata": {},
   "source": [
    "Funções recursivas geralmente são mais elegantes e limpas. Nós podemos quebrar problemas grandes em subproblemas, portanto, ela por muitas vezes facilita o desenvolvimento de um algoritmo.\n",
    "\n",
    "Porém, chamdas recursivas são caras, já que podem consumir mais memória e tempo devido ao **overhead** das chamdas de funções sucessivas. Além disso, chamdas recursivas são mais difícil de debugar.\n",
    "\n",
    "Portanto, sempre prefira funções iterativas a recursivas (mas algumas vezes é mais fácil iniciar o desenvlvomento pelas recursivas)."
   ]
  },
  {
   "cell_type": "code",
   "execution_count": 15,
   "metadata": {},
   "outputs": [
    {
     "name": "stdout",
     "output_type": "stream",
     "text": [
      "1000 loops, best of 3: 194 µs per loop\n",
      "The slowest run took 10.97 times longer than the fastest. This could mean that an intermediate result is being cached.\n",
      "1000000 loops, best of 3: 1.21 µs per loop\n"
     ]
    }
   ],
   "source": [
    "%timeit fibonacci_recursiva(15)\n",
    "%timeit fibonnaci_iterativa(15)"
   ]
  },
  {
   "cell_type": "markdown",
   "metadata": {},
   "source": [
    "## Funções anonimas\n",
    "\n",
    "São funções definidas sem nome. Em python, elas são conhecidas cmo lambda.\n",
    "\n",
    "Funções lambda podem ter vários argumentos, mas somente uma expressão. Veja a sintaxe a baixo:\n",
    "\n",
    "```python\n",
    "lambda argumentos: expressao\n",
    "```\n",
    "\n",
    "Geralmente, utilizamos esse tipo de função com argumentos de função que usam funções como argumentos. Por exemplo, as funções filter, map, entre outras. \n",
    "\n",
    "#### Exemplo Filter\n",
    "\n",
    "Filter, como o próprio nome diz, é uma função para filtragem de sequência (i.e., list, tuplas...)."
   ]
  },
  {
   "cell_type": "code",
   "execution_count": 12,
   "metadata": {},
   "outputs": [
    {
     "name": "stdout",
     "output_type": "stream",
     "text": [
      "[1, 5, 11, 3]\n",
      "[1, 5, 11, 3]\n"
     ]
    }
   ],
   "source": [
    "lista = [1, 5, 4, 6, 8, 11, 3, 12]\n",
    "\n",
    "print(filter(lambda x: x%2, lista))\n",
    "\n",
    "# filtro equivale a:\n",
    "print([l for l  in lista if l%2])"
   ]
  },
  {
   "cell_type": "markdown",
   "metadata": {},
   "source": [
    "#### Exemplo Map\n",
    "\n",
    "Map, como o próprio nome diz, é uma função que mapeia valores de uma sequência para outra. Por exemplo, queremos elevar os valores de uma lista ao quadrado:"
   ]
  },
  {
   "cell_type": "code",
   "execution_count": 13,
   "metadata": {},
   "outputs": [
    {
     "name": "stdout",
     "output_type": "stream",
     "text": [
      "[1, 25, 16, 36, 64, 121, 9, 144]\n",
      "[1, 25, 16, 36, 64, 121, 9, 144]\n"
     ]
    }
   ],
   "source": [
    "lista = [1, 5, 4, 6, 8, 11, 3, 12]\n",
    "\n",
    "print(map(lambda x: x**2, lista))\n",
    "\n",
    "# map equivale a:\n",
    "print([l**2 for l  in lista])"
   ]
  },
  {
   "cell_type": "code",
   "execution_count": null,
   "metadata": {},
   "outputs": [],
   "source": []
  }
 ],
 "metadata": {
  "kernelspec": {
   "display_name": "Python 2",
   "language": "python",
   "name": "python2"
  },
  "language_info": {
   "codemirror_mode": {
    "name": "ipython",
    "version": 2
   },
   "file_extension": ".py",
   "mimetype": "text/x-python",
   "name": "python",
   "nbconvert_exporter": "python",
   "pygments_lexer": "ipython2",
   "version": "2.7.13"
  }
 },
 "nbformat": 4,
 "nbformat_minor": 2
}
